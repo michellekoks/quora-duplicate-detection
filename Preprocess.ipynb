{
 "cells": [
  {
   "cell_type": "code",
   "execution_count": 1,
   "metadata": {},
   "outputs": [],
   "source": [
    "import pandas as pd\n",
    "import numpy as np\n",
    "from preprocessing import *"
   ]
  },
  {
   "cell_type": "code",
   "execution_count": 2,
   "metadata": {},
   "outputs": [],
   "source": [
    "x_train = pd.read_csv('./data/train_data.csv')\n",
    "y_train = pd.read_csv('./data/train_labels.csv')\n",
    "x_test = pd.read_csv('./data/test_data.csv')"
   ]
  },
  {
   "cell_type": "markdown",
   "metadata": {},
   "source": [
    "# 1. Preprocess train and test data and save to file\n",
    "## Assign id to each unique questions"
   ]
  },
  {
   "cell_type": "code",
   "execution_count": 3,
   "metadata": {},
   "outputs": [],
   "source": [
    "x_train, x_test = unique_question_map(x_train, x_test)"
   ]
  },
  {
   "cell_type": "markdown",
   "metadata": {},
   "source": [
    "## Combine train and test data into one dataframe and clean"
   ]
  },
  {
   "cell_type": "code",
   "execution_count": 4,
   "metadata": {
    "scrolled": true
   },
   "outputs": [
    {
     "data": {
      "text/html": [
       "<div>\n",
       "<style>\n",
       "    .dataframe thead tr:only-child th {\n",
       "        text-align: right;\n",
       "    }\n",
       "\n",
       "    .dataframe thead th {\n",
       "        text-align: left;\n",
       "    }\n",
       "\n",
       "    .dataframe tbody tr th {\n",
       "        vertical-align: top;\n",
       "    }\n",
       "</style>\n",
       "<table border=\"1\" class=\"dataframe\">\n",
       "  <thead>\n",
       "    <tr style=\"text-align: right;\">\n",
       "      <th></th>\n",
       "      <th>id</th>\n",
       "      <th>question1</th>\n",
       "      <th>qid1</th>\n",
       "      <th>question2</th>\n",
       "      <th>qid2</th>\n",
       "      <th>is_duplicate</th>\n",
       "    </tr>\n",
       "  </thead>\n",
       "  <tbody>\n",
       "    <tr>\n",
       "      <th>0</th>\n",
       "      <td>0</td>\n",
       "      <td>what is the step by step guide to invest in share market in india</td>\n",
       "      <td>0</td>\n",
       "      <td>what is the step by step guide to invest in share market</td>\n",
       "      <td>241804</td>\n",
       "      <td>0</td>\n",
       "    </tr>\n",
       "    <tr>\n",
       "      <th>1</th>\n",
       "      <td>1</td>\n",
       "      <td>what is the story of kohinoor kohinoor diamond</td>\n",
       "      <td>1</td>\n",
       "      <td>what would happen if the indian government stole the kohinoor kohinoor diamond back</td>\n",
       "      <td>13483</td>\n",
       "      <td>0</td>\n",
       "    </tr>\n",
       "    <tr>\n",
       "      <th>2</th>\n",
       "      <td>2</td>\n",
       "      <td>how can i increase the speed of my internet connection while using a vpn</td>\n",
       "      <td>2</td>\n",
       "      <td>how can internet speed be increased by hacking through dns</td>\n",
       "      <td>241805</td>\n",
       "      <td>0</td>\n",
       "    </tr>\n",
       "    <tr>\n",
       "      <th>3</th>\n",
       "      <td>3</td>\n",
       "      <td>why am i mentally very lonely how can i solve it</td>\n",
       "      <td>3</td>\n",
       "      <td>find the remainder when math two three two four math is divided by two four two three</td>\n",
       "      <td>241806</td>\n",
       "      <td>0</td>\n",
       "    </tr>\n",
       "    <tr>\n",
       "      <th>4</th>\n",
       "      <td>4</td>\n",
       "      <td>which one dissolve in water quikly sugar salt methane and carbon di oxide</td>\n",
       "      <td>4</td>\n",
       "      <td>which fish would survive in salt water</td>\n",
       "      <td>241807</td>\n",
       "      <td>0</td>\n",
       "    </tr>\n",
       "  </tbody>\n",
       "</table>\n",
       "</div>"
      ],
      "text/plain": [
       "   id  \\\n",
       "0   0   \n",
       "1   1   \n",
       "2   2   \n",
       "3   3   \n",
       "4   4   \n",
       "\n",
       "                                                                   question1  \\\n",
       "0          what is the step by step guide to invest in share market in india   \n",
       "1                             what is the story of kohinoor kohinoor diamond   \n",
       "2   how can i increase the speed of my internet connection while using a vpn   \n",
       "3                           why am i mentally very lonely how can i solve it   \n",
       "4  which one dissolve in water quikly sugar salt methane and carbon di oxide   \n",
       "\n",
       "   qid1  \\\n",
       "0     0   \n",
       "1     1   \n",
       "2     2   \n",
       "3     3   \n",
       "4     4   \n",
       "\n",
       "                                                                               question2  \\\n",
       "0                               what is the step by step guide to invest in share market   \n",
       "1    what would happen if the indian government stole the kohinoor kohinoor diamond back   \n",
       "2                             how can internet speed be increased by hacking through dns   \n",
       "3  find the remainder when math two three two four math is divided by two four two three   \n",
       "4                                                 which fish would survive in salt water   \n",
       "\n",
       "     qid2  is_duplicate  \n",
       "0  241804             0  \n",
       "1   13483             0  \n",
       "2  241805             0  \n",
       "3  241806             0  \n",
       "4  241807             0  "
      ]
     },
     "execution_count": 4,
     "metadata": {},
     "output_type": "execute_result"
    }
   ],
   "source": [
    "df_train = x_train.drop('is_duplicate',1)\n",
    "df_train = df_train.merge(y_train,on=\"id\")\n",
    "\n",
    "df_train = df_train[['id','question1', 'qid1', 'question2', 'qid2','is_duplicate']].dropna()\n",
    "df_train['question1'] = df_train['question1'].apply(preprocess) \n",
    "df_train['question2'] = df_train['question2'].apply(preprocess)\n",
    "\n",
    "df_train.head()"
   ]
  },
  {
   "cell_type": "code",
   "execution_count": 5,
   "metadata": {},
   "outputs": [
    {
     "data": {
      "text/html": [
       "<div>\n",
       "<style>\n",
       "    .dataframe thead tr:only-child th {\n",
       "        text-align: right;\n",
       "    }\n",
       "\n",
       "    .dataframe thead th {\n",
       "        text-align: left;\n",
       "    }\n",
       "\n",
       "    .dataframe tbody tr th {\n",
       "        vertical-align: top;\n",
       "    }\n",
       "</style>\n",
       "<table border=\"1\" class=\"dataframe\">\n",
       "  <thead>\n",
       "    <tr style=\"text-align: right;\">\n",
       "      <th></th>\n",
       "      <th>test_id</th>\n",
       "      <th>question1</th>\n",
       "      <th>qid1</th>\n",
       "      <th>question2</th>\n",
       "      <th>qid2</th>\n",
       "    </tr>\n",
       "  </thead>\n",
       "  <tbody>\n",
       "    <tr>\n",
       "      <th>0</th>\n",
       "      <td>15</td>\n",
       "      <td>what would a trump presidency mean for current international master s students on an f one visa</td>\n",
       "      <td>108613</td>\n",
       "      <td>how will a trump presidency affect the students presently in us or planning to study in us</td>\n",
       "      <td>39392</td>\n",
       "    </tr>\n",
       "    <tr>\n",
       "      <th>1</th>\n",
       "      <td>20</td>\n",
       "      <td>why do rockets look white</td>\n",
       "      <td>449444</td>\n",
       "      <td>why are rockets and boosters painted white</td>\n",
       "      <td>314405</td>\n",
       "    </tr>\n",
       "    <tr>\n",
       "      <th>2</th>\n",
       "      <td>21</td>\n",
       "      <td>whats causing someone to be jealous</td>\n",
       "      <td>449445</td>\n",
       "      <td>what can i do to avoid being jealous of someone</td>\n",
       "      <td>492291</td>\n",
       "    </tr>\n",
       "    <tr>\n",
       "      <th>3</th>\n",
       "      <td>23</td>\n",
       "      <td>how much is three zero kv in hp</td>\n",
       "      <td>449446</td>\n",
       "      <td>where can i find a conversion chart for cc to horsepower</td>\n",
       "      <td>492292</td>\n",
       "    </tr>\n",
       "    <tr>\n",
       "      <th>4</th>\n",
       "      <td>34</td>\n",
       "      <td>what is the best travel website in spain</td>\n",
       "      <td>449447</td>\n",
       "      <td>what is the best travel website</td>\n",
       "      <td>275556</td>\n",
       "    </tr>\n",
       "  </tbody>\n",
       "</table>\n",
       "</div>"
      ],
      "text/plain": [
       "   test_id  \\\n",
       "0       15   \n",
       "1       20   \n",
       "2       21   \n",
       "3       23   \n",
       "4       34   \n",
       "\n",
       "                                                                                         question1  \\\n",
       "0  what would a trump presidency mean for current international master s students on an f one visa   \n",
       "1                                                                        why do rockets look white   \n",
       "2                                                              whats causing someone to be jealous   \n",
       "3                                                                  how much is three zero kv in hp   \n",
       "4                                                         what is the best travel website in spain   \n",
       "\n",
       "     qid1  \\\n",
       "0  108613   \n",
       "1  449444   \n",
       "2  449445   \n",
       "3  449446   \n",
       "4  449447   \n",
       "\n",
       "                                                                                    question2  \\\n",
       "0  how will a trump presidency affect the students presently in us or planning to study in us   \n",
       "1                                                  why are rockets and boosters painted white   \n",
       "2                                             what can i do to avoid being jealous of someone   \n",
       "3                                    where can i find a conversion chart for cc to horsepower   \n",
       "4                                                             what is the best travel website   \n",
       "\n",
       "     qid2  \n",
       "0   39392  \n",
       "1  314405  \n",
       "2  492291  \n",
       "3  492292  \n",
       "4  275556  "
      ]
     },
     "execution_count": 5,
     "metadata": {},
     "output_type": "execute_result"
    }
   ],
   "source": [
    "df_test = x_test\n",
    "\n",
    "df_test = df_test[['test_id','question1', 'qid1', 'question2', 'qid2']].dropna()\n",
    "df_test['question1'] = df_test['question1'].apply(preprocess) \n",
    "df_test['question2'] = df_test['question2'].apply(preprocess)\n",
    "\n",
    "df_test.head()"
   ]
  },
  {
   "cell_type": "markdown",
   "metadata": {},
   "source": [
    "### Tokenize"
   ]
  },
  {
   "cell_type": "code",
   "execution_count": 6,
   "metadata": {},
   "outputs": [
    {
     "data": {
      "text/html": [
       "<div>\n",
       "<style>\n",
       "    .dataframe thead tr:only-child th {\n",
       "        text-align: right;\n",
       "    }\n",
       "\n",
       "    .dataframe thead th {\n",
       "        text-align: left;\n",
       "    }\n",
       "\n",
       "    .dataframe tbody tr th {\n",
       "        vertical-align: top;\n",
       "    }\n",
       "</style>\n",
       "<table border=\"1\" class=\"dataframe\">\n",
       "  <thead>\n",
       "    <tr style=\"text-align: right;\">\n",
       "      <th></th>\n",
       "      <th>id</th>\n",
       "      <th>qid1</th>\n",
       "      <th>tokenq1</th>\n",
       "      <th>qid2</th>\n",
       "      <th>tokenq2</th>\n",
       "      <th>is_duplicate</th>\n",
       "    </tr>\n",
       "  </thead>\n",
       "  <tbody>\n",
       "    <tr>\n",
       "      <th>0</th>\n",
       "      <td>0</td>\n",
       "      <td>0</td>\n",
       "      <td>[what, is, the, step, by, step, guide, to, invest, in, share, market, in, india]</td>\n",
       "      <td>241804</td>\n",
       "      <td>[what, is, the, step, by, step, guide, to, invest, in, share, market]</td>\n",
       "      <td>0</td>\n",
       "    </tr>\n",
       "    <tr>\n",
       "      <th>1</th>\n",
       "      <td>1</td>\n",
       "      <td>1</td>\n",
       "      <td>[what, is, the, story, of, kohinoor, kohinoor, diamond]</td>\n",
       "      <td>13483</td>\n",
       "      <td>[what, would, happen, if, the, indian, government, stole, the, kohinoor, kohinoor, diamond, back]</td>\n",
       "      <td>0</td>\n",
       "    </tr>\n",
       "    <tr>\n",
       "      <th>2</th>\n",
       "      <td>2</td>\n",
       "      <td>2</td>\n",
       "      <td>[how, can, i, increase, the, speed, of, my, internet, connection, while, using, a, vpn]</td>\n",
       "      <td>241805</td>\n",
       "      <td>[how, can, internet, speed, be, increased, by, hacking, through, dns]</td>\n",
       "      <td>0</td>\n",
       "    </tr>\n",
       "    <tr>\n",
       "      <th>3</th>\n",
       "      <td>3</td>\n",
       "      <td>3</td>\n",
       "      <td>[why, am, i, mentally, very, lonely, how, can, i, solve, it]</td>\n",
       "      <td>241806</td>\n",
       "      <td>[find, the, remainder, when, math, two, three, two, four, math, is, divided, by, two, four, two, three]</td>\n",
       "      <td>0</td>\n",
       "    </tr>\n",
       "    <tr>\n",
       "      <th>4</th>\n",
       "      <td>4</td>\n",
       "      <td>4</td>\n",
       "      <td>[which, one, dissolve, in, water, quikly, sugar, salt, methane, and, carbon, di, oxide]</td>\n",
       "      <td>241807</td>\n",
       "      <td>[which, fish, would, survive, in, salt, water]</td>\n",
       "      <td>0</td>\n",
       "    </tr>\n",
       "  </tbody>\n",
       "</table>\n",
       "</div>"
      ],
      "text/plain": [
       "   id  qid1  \\\n",
       "0   0     0   \n",
       "1   1     1   \n",
       "2   2     2   \n",
       "3   3     3   \n",
       "4   4     4   \n",
       "\n",
       "                                                                                   tokenq1  \\\n",
       "0         [what, is, the, step, by, step, guide, to, invest, in, share, market, in, india]   \n",
       "1                                  [what, is, the, story, of, kohinoor, kohinoor, diamond]   \n",
       "2  [how, can, i, increase, the, speed, of, my, internet, connection, while, using, a, vpn]   \n",
       "3                             [why, am, i, mentally, very, lonely, how, can, i, solve, it]   \n",
       "4  [which, one, dissolve, in, water, quikly, sugar, salt, methane, and, carbon, di, oxide]   \n",
       "\n",
       "     qid2  \\\n",
       "0  241804   \n",
       "1   13483   \n",
       "2  241805   \n",
       "3  241806   \n",
       "4  241807   \n",
       "\n",
       "                                                                                                   tokenq2  \\\n",
       "0                                    [what, is, the, step, by, step, guide, to, invest, in, share, market]   \n",
       "1        [what, would, happen, if, the, indian, government, stole, the, kohinoor, kohinoor, diamond, back]   \n",
       "2                                    [how, can, internet, speed, be, increased, by, hacking, through, dns]   \n",
       "3  [find, the, remainder, when, math, two, three, two, four, math, is, divided, by, two, four, two, three]   \n",
       "4                                                           [which, fish, would, survive, in, salt, water]   \n",
       "\n",
       "   is_duplicate  \n",
       "0             0  \n",
       "1             0  \n",
       "2             0  \n",
       "3             0  \n",
       "4             0  "
      ]
     },
     "execution_count": 6,
     "metadata": {},
     "output_type": "execute_result"
    }
   ],
   "source": [
    "token_train = df_train.assign(tokenq1 = df_train['question1'].apply(tokenize),\n",
    "                              tokenq2 = df_train['question2'].apply(tokenize))\n",
    "token_train = token_train[['id','qid1','tokenq1','qid2','tokenq2','is_duplicate']]\n",
    "token_train.head()"
   ]
  },
  {
   "cell_type": "code",
   "execution_count": 7,
   "metadata": {},
   "outputs": [
    {
     "data": {
      "text/html": [
       "<div>\n",
       "<style>\n",
       "    .dataframe thead tr:only-child th {\n",
       "        text-align: right;\n",
       "    }\n",
       "\n",
       "    .dataframe thead th {\n",
       "        text-align: left;\n",
       "    }\n",
       "\n",
       "    .dataframe tbody tr th {\n",
       "        vertical-align: top;\n",
       "    }\n",
       "</style>\n",
       "<table border=\"1\" class=\"dataframe\">\n",
       "  <thead>\n",
       "    <tr style=\"text-align: right;\">\n",
       "      <th></th>\n",
       "      <th>test_id</th>\n",
       "      <th>qid1</th>\n",
       "      <th>tokenq1</th>\n",
       "      <th>qid2</th>\n",
       "      <th>tokenq2</th>\n",
       "    </tr>\n",
       "  </thead>\n",
       "  <tbody>\n",
       "    <tr>\n",
       "      <th>0</th>\n",
       "      <td>15</td>\n",
       "      <td>108613</td>\n",
       "      <td>[what, would, a, trump, presidency, mean, for, current, international, master, s, students, on, an, f, one, visa]</td>\n",
       "      <td>39392</td>\n",
       "      <td>[how, will, a, trump, presidency, affect, the, students, presently, in, us, or, planning, to, study, in, us]</td>\n",
       "    </tr>\n",
       "    <tr>\n",
       "      <th>1</th>\n",
       "      <td>20</td>\n",
       "      <td>449444</td>\n",
       "      <td>[why, do, rockets, look, white]</td>\n",
       "      <td>314405</td>\n",
       "      <td>[why, are, rockets, and, boosters, painted, white]</td>\n",
       "    </tr>\n",
       "    <tr>\n",
       "      <th>2</th>\n",
       "      <td>21</td>\n",
       "      <td>449445</td>\n",
       "      <td>[whats, causing, someone, to, be, jealous]</td>\n",
       "      <td>492291</td>\n",
       "      <td>[what, can, i, do, to, avoid, being, jealous, of, someone]</td>\n",
       "    </tr>\n",
       "    <tr>\n",
       "      <th>3</th>\n",
       "      <td>23</td>\n",
       "      <td>449446</td>\n",
       "      <td>[how, much, is, three, zero, kv, in, hp]</td>\n",
       "      <td>492292</td>\n",
       "      <td>[where, can, i, find, a, conversion, chart, for, cc, to, horsepower]</td>\n",
       "    </tr>\n",
       "    <tr>\n",
       "      <th>4</th>\n",
       "      <td>34</td>\n",
       "      <td>449447</td>\n",
       "      <td>[what, is, the, best, travel, website, in, spain]</td>\n",
       "      <td>275556</td>\n",
       "      <td>[what, is, the, best, travel, website]</td>\n",
       "    </tr>\n",
       "  </tbody>\n",
       "</table>\n",
       "</div>"
      ],
      "text/plain": [
       "   test_id    qid1  \\\n",
       "0       15  108613   \n",
       "1       20  449444   \n",
       "2       21  449445   \n",
       "3       23  449446   \n",
       "4       34  449447   \n",
       "\n",
       "                                                                                                             tokenq1  \\\n",
       "0  [what, would, a, trump, presidency, mean, for, current, international, master, s, students, on, an, f, one, visa]   \n",
       "1                                                                                    [why, do, rockets, look, white]   \n",
       "2                                                                         [whats, causing, someone, to, be, jealous]   \n",
       "3                                                                           [how, much, is, three, zero, kv, in, hp]   \n",
       "4                                                                  [what, is, the, best, travel, website, in, spain]   \n",
       "\n",
       "     qid2  \\\n",
       "0   39392   \n",
       "1  314405   \n",
       "2  492291   \n",
       "3  492292   \n",
       "4  275556   \n",
       "\n",
       "                                                                                                        tokenq2  \n",
       "0  [how, will, a, trump, presidency, affect, the, students, presently, in, us, or, planning, to, study, in, us]  \n",
       "1                                                            [why, are, rockets, and, boosters, painted, white]  \n",
       "2                                                    [what, can, i, do, to, avoid, being, jealous, of, someone]  \n",
       "3                                          [where, can, i, find, a, conversion, chart, for, cc, to, horsepower]  \n",
       "4                                                                        [what, is, the, best, travel, website]  "
      ]
     },
     "execution_count": 7,
     "metadata": {},
     "output_type": "execute_result"
    }
   ],
   "source": [
    "token_test = df_test.assign(tokenq1 = df_test['question1'].apply(tokenize),\n",
    "                              tokenq2 = df_test['question2'].apply(tokenize))\n",
    "token_test = token_test[['test_id','qid1','tokenq1','qid2','tokenq2']]\n",
    "token_test.head()"
   ]
  },
  {
   "cell_type": "markdown",
   "metadata": {},
   "source": [
    "## Some exploration"
   ]
  },
  {
   "cell_type": "code",
   "execution_count": 8,
   "metadata": {},
   "outputs": [
    {
     "name": "stdout",
     "output_type": "stream",
     "text": [
      "Total number of question pairs for training: 323162\n",
      "Duplicate pairs: 36.88%\n",
      "Non-duplicate pairs: 63.12%\n",
      "Number of unique questions: 448325\n"
     ]
    }
   ],
   "source": [
    "print('Total number of question pairs for training: {}'.format(len(df_train)))\n",
    "print('Duplicate pairs: {}%'.format(round(df_train['is_duplicate'].mean()*100, 2)))\n",
    "print('Non-duplicate pairs: {}%'.format(100.00 - round(df_train['is_duplicate'].mean()*100, 2)))\n",
    "\n",
    "print('Number of unique questions: {}'.format(len(pd.concat([df_train['question1'], df_train['question2']]).unique())))"
   ]
  },
  {
   "cell_type": "markdown",
   "metadata": {},
   "source": [
    "# 2. Extract unique questions from train data"
   ]
  },
  {
   "cell_type": "code",
   "execution_count": 9,
   "metadata": {},
   "outputs": [],
   "source": [
    "unique_questions = pd.concat([df_train['question1'], df_train['question2']]).fillna(\"\")\n",
    "unique_questions = pd.DataFrame(unique_questions.unique())"
   ]
  },
  {
   "cell_type": "code",
   "execution_count": 10,
   "metadata": {},
   "outputs": [
    {
     "name": "stdout",
     "output_type": "stream",
     "text": [
      "Number of unique questions: 448325\n"
     ]
    }
   ],
   "source": [
    "print('Number of unique questions: {}'.format(len(unique_questions)))"
   ]
  },
  {
   "cell_type": "markdown",
   "metadata": {},
   "source": [
    "# 3. Save to file"
   ]
  },
  {
   "cell_type": "code",
   "execution_count": 11,
   "metadata": {},
   "outputs": [],
   "source": [
    "df_train.to_pickle(\"./data/df_train.pkl\")\n",
    "df_test.to_pickle(\"./data/df_test.pkl\")"
   ]
  },
  {
   "cell_type": "code",
   "execution_count": 12,
   "metadata": {},
   "outputs": [],
   "source": [
    "unique_questions.to_pickle(\"./data/unique_questions.pkl\")"
   ]
  },
  {
   "cell_type": "code",
   "execution_count": 14,
   "metadata": {},
   "outputs": [],
   "source": [
    "token_train.to_pickle(\"./data/token_train.pkl\")\n",
    "token_test.to_pickle(\"./data/token_test.pkl\")"
   ]
  }
 ],
 "metadata": {
  "kernelspec": {
   "display_name": "Python 3",
   "language": "python",
   "name": "python3"
  },
  "language_info": {
   "codemirror_mode": {
    "name": "ipython",
    "version": 3
   },
   "file_extension": ".py",
   "mimetype": "text/x-python",
   "name": "python",
   "nbconvert_exporter": "python",
   "pygments_lexer": "ipython3",
   "version": "3.6.3"
  }
 },
 "nbformat": 4,
 "nbformat_minor": 2
}
